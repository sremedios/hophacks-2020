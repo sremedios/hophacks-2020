{
 "cells": [
  {
   "cell_type": "code",
   "execution_count": 1,
   "metadata": {},
   "outputs": [],
   "source": [
    "%load_ext autoreload\n",
    "%autoreload 2"
   ]
  },
  {
   "cell_type": "code",
   "execution_count": 2,
   "metadata": {},
   "outputs": [],
   "source": [
    "import torch\n",
    "import torchvision.models as models\n",
    "from torch.utils.model_zoo import load_url as load_state_dict_from_url\n",
    "import torch.nn.functional as f\n",
    "from pathlib import Path\n",
    "from models.resnet import *\n",
    "from torch.autograd import Variable"
   ]
  },
  {
   "cell_type": "code",
   "execution_count": 3,
   "metadata": {},
   "outputs": [],
   "source": [
    "WEIGHT_DIR = Path(\"weights\")\n",
    "\n",
    "seg_weight_fpath = WEIGHT_DIR / \"weights_epoch_500.h5\"\n",
    "seg_chkpt = torch.load(seg_weight_fpath)\n",
    "\n",
    "model = ResNet(n_channels=1, kernel_size=3, filters=128, n_layers=35).cuda()\n",
    "# model.load_state_dict(seg_chkpt['model'])"
   ]
  },
  {
   "cell_type": "code",
   "execution_count": 5,
   "metadata": {
    "scrolled": false
   },
   "outputs": [
    {
     "name": "stderr",
     "output_type": "stream",
     "text": [
      "c:\\users\\sam\\anaconda3\\envs\\ot-flow\\lib\\site-packages\\torch\\nn\\modules\\module.py:720: UserWarning: Implicit dimension choice for softmax has been deprecated. Change the call to include dim=X as an argument.\n",
      "  result = self._slow_forward(*input, **kwargs)\n"
     ]
    }
   ],
   "source": [
    "dummy_input = Variable(torch.randn(1, 1, 512, 512)).cuda()\n",
    "torch.onnx.export(model, dummy_input, \"models/covid_detect.onnx\")"
   ]
  },
  {
   "cell_type": "code",
   "execution_count": null,
   "metadata": {},
   "outputs": [],
   "source": []
  }
 ],
 "metadata": {
  "kernelspec": {
   "display_name": "Python 3",
   "language": "python",
   "name": "python3"
  },
  "language_info": {
   "codemirror_mode": {
    "name": "ipython",
    "version": 3
   },
   "file_extension": ".py",
   "mimetype": "text/x-python",
   "name": "python",
   "nbconvert_exporter": "python",
   "pygments_lexer": "ipython3",
   "version": "3.7.7"
  }
 },
 "nbformat": 4,
 "nbformat_minor": 4
}
