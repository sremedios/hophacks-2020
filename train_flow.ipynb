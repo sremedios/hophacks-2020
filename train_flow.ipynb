{
 "cells": [
  {
   "cell_type": "code",
   "execution_count": 1,
   "metadata": {},
   "outputs": [],
   "source": [
    "%load_ext autoreload\n",
    "%autoreload 2"
   ]
  },
  {
   "cell_type": "code",
   "execution_count": 2,
   "metadata": {},
   "outputs": [],
   "source": [
    "import nibabel as nib\n",
    "import numpy as np\n",
    "import matplotlib.pyplot as plt\n",
    "from tqdm import tqdm\n",
    "import os\n",
    "import sys\n",
    "import seaborn as sns\n",
    "\n",
    "import torch\n",
    "\n",
    "from pathlib import Path\n",
    "from models.unet import *\n",
    "from utils.plot import *\n",
    "from utils.data_loader import *\n",
    "from utils.OTFlowProblem import *\n",
    "\n",
    "sns.set_style(\"white\")\n",
    "\n",
    "torch.backends.cudnn.benchmark = True"
   ]
  },
  {
   "cell_type": "code",
   "execution_count": 3,
   "metadata": {},
   "outputs": [],
   "source": [
    "def compute_loss(net, x, nt): \n",
    "    Jc , costs = OTFlowProblem(x, net, [0,1], nt=nt, stepper=\"rk4\", alph=net.alph)\n",
    "    return Jc, costs"
   ]
  },
  {
   "cell_type": "markdown",
   "metadata": {},
   "source": [
    "# Dataset"
   ]
  },
  {
   "cell_type": "code",
   "execution_count": 4,
   "metadata": {},
   "outputs": [],
   "source": [
    "CT_DIR = Path(\"D:\\data\\covid\\MosMedData Chest CT Scans with COVID-19 Related Findings COVID19_1110 1.0\\studies\\CT-1\")\n",
    "MASK_DIR = Path(\"D:\\data\\covid\\MosMedData Chest CT Scans with COVID-19 Related Findings COVID19_1110 1.0\\masks\")"
   ]
  },
  {
   "cell_type": "code",
   "execution_count": 5,
   "metadata": {},
   "outputs": [],
   "source": [
    "ds = CTSlices(CT_DIR, MASK_DIR)"
   ]
  },
  {
   "cell_type": "code",
   "execution_count": 6,
   "metadata": {},
   "outputs": [],
   "source": [
    "dataloader = DataLoader(\n",
    "    ds, \n",
    "    batch_size=2,                   \n",
    "    shuffle=False,\n",
    "    pin_memory=False,\n",
    "    num_workers=0,\n",
    ")"
   ]
  },
  {
   "cell_type": "markdown",
   "metadata": {},
   "source": [
    "# Trained Segmentation Model"
   ]
  },
  {
   "cell_type": "code",
   "execution_count": 7,
   "metadata": {},
   "outputs": [],
   "source": [
    "WEIGHT_DIR = Path(\"weights\")\n",
    "\n",
    "seg_weight_fpath = WEIGHT_DIR / \"weights_epoch_100.h5\"\n",
    "seg_chkpt = torch.load(seg_weight_fpath)\n",
    "\n",
    "model = UNet(n_channels=1, kernel_size=3, ds=1).cuda()\n",
    "model.load_state_dict(seg_chkpt['model'])\n",
    "_ = model.eval()"
   ]
  },
  {
   "cell_type": "code",
   "execution_count": 8,
   "metadata": {},
   "outputs": [],
   "source": [
    "for xs, _ in dataloader:\n",
    "    ys_hat = model.encode(xs)\n",
    "    break\n",
    "\n",
    "encoding_shape = ys_hat.shape"
   ]
  },
  {
   "cell_type": "code",
   "execution_count": 12,
   "metadata": {},
   "outputs": [
    {
     "data": {
      "text/plain": [
       "torch.Size([2, 64, 1, 1])"
      ]
     },
     "execution_count": 12,
     "metadata": {},
     "output_type": "execute_result"
    }
   ],
   "source": [
    "encoding_shape"
   ]
  },
  {
   "cell_type": "markdown",
   "metadata": {},
   "source": [
    "# Flow"
   ]
  },
  {
   "cell_type": "code",
   "execution_count": 13,
   "metadata": {},
   "outputs": [],
   "source": [
    "alph = [1.0, 2000.0, 800.0] # scale each term in loss: negloglik, transport, HJB reg\n",
    "clampMax = 2.0\n",
    "clampMin = -2.0\n",
    "\n",
    "nt = 14 # n time steps\n",
    "nTh = 2 # num layers in internal ResNet\n",
    "m = 64 # hidden dim in internal ResNet\n",
    "\n",
    "flow = Phi(nTh=nTh, m=m, d=np.prod(encoding_shape[1:]), alph=alph).cuda()\n",
    "_ = flow.train()"
   ]
  },
  {
   "cell_type": "code",
   "execution_count": 14,
   "metadata": {},
   "outputs": [],
   "source": [
    "N_EPOCHS = 100\n",
    "N_STEPS = len(dataloader) * N_EPOCHS\n",
    "learning_rate = 1e-4\n",
    "\n",
    "opt = torch.optim.Adam(flow.parameters(), lr=learning_rate)"
   ]
  },
  {
   "cell_type": "code",
   "execution_count": null,
   "metadata": {
    "scrolled": false
   },
   "outputs": [
    {
     "name": "stderr",
     "output_type": "stream",
     "text": [
      "  3%|█▉                                                               | 3/100 [02:00<1:06:17, 41.01s/it, loss=611.5996]"
     ]
    }
   ],
   "source": [
    "flow_losses = []\n",
    "\n",
    "with tqdm(total=N_EPOCHS) as pbar:\n",
    "    \n",
    "    for cur_epoch in range(N_EPOCHS):\n",
    "    \n",
    "        epoch_losses = []\n",
    "    \n",
    "        for xs, ys in dataloader:\n",
    "            # encode\n",
    "            ys_hat = model.encode(xs)[:, :, 0, 0]\n",
    "\n",
    "            # skip normalize encoding\n",
    "\n",
    "            # reset opt\n",
    "            opt.zero_grad()\n",
    "\n",
    "            # clip parameters\n",
    "            for p in flow.parameters():\n",
    "                p.data = torch.clamp(p.data, clampMin, clampMax)\n",
    "\n",
    "            # forward flow + loss\n",
    "            loss, costs = compute_loss(flow, ys_hat, nt=nt)\n",
    "            loss.backward()\n",
    "            opt.step()\n",
    "            \n",
    "            negloglik = costs[0]\n",
    "            \n",
    "            epoch_losses.append(negloglik.detach().cpu().item())\n",
    "            \n",
    "        mean_epoch_loss = np.mean(epoch_losses)\n",
    "        flow_losses.append(mean_epoch_loss)\n",
    "        pbar.set_postfix(\n",
    "            {\n",
    "                'loss': '{:.4f}'.format(flow_losses[-1]),\n",
    "            }\n",
    "        )\n",
    "        pbar.update(1)\n",
    "            \n",
    "        if cur_epoch % 10 == 0:\n",
    "            WEIGHT_PATH = WEIGHT_DIR / \"flow_weights_epoch_{}.h5\".format(cur_epoch)\n",
    "            torch.save(\n",
    "                {\n",
    "                    'model': flow.state_dict(),\n",
    "                    'opt': opt.state_dict(),\n",
    "                },\n",
    "                str(WEIGHT_PATH),\n",
    "            )\n",
    "           \n",
    "    # also save final epoch\n",
    "WEIGHT_PATH = WEIGHT_DIR / \"flow_weights_epoch_{}.h5\".format(cur_epoch+1)\n",
    "torch.save(\n",
    "    {\n",
    "        'model': flow.state_dict(),\n",
    "        'opt': opt.state_dict(),\n",
    "    },\n",
    "    str(WEIGHT_PATH),\n",
    ")"
   ]
  },
  {
   "cell_type": "code",
   "execution_count": null,
   "metadata": {},
   "outputs": [],
   "source": []
  }
 ],
 "metadata": {
  "kernelspec": {
   "display_name": "Python 3",
   "language": "python",
   "name": "python3"
  },
  "language_info": {
   "codemirror_mode": {
    "name": "ipython",
    "version": 3
   },
   "file_extension": ".py",
   "mimetype": "text/x-python",
   "name": "python",
   "nbconvert_exporter": "python",
   "pygments_lexer": "ipython3",
   "version": "3.7.7"
  }
 },
 "nbformat": 4,
 "nbformat_minor": 4
}
